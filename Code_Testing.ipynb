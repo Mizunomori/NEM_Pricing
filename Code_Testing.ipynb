{
 "cells": [
  {
   "cell_type": "code",
   "execution_count": null,
   "metadata": {},
   "outputs": [],
   "source": [
    "\n"
   ]
  },
  {
   "cell_type": "markdown",
   "metadata": {},
   "source": [
    "#What is needed, what do we want to simulate \n",
    "#Try to make a small-scale energy mangement system \n",
    "#Build something how much money you could save \n",
    "#Taking the perspective of someone trying to install a solar system \n",
    "#IF you have a solar system what do you gain by isntalling \n",
    "#ASsume you have 3 types of use of electricity - lighting and typical use, more intensive consumption\n",
    "#such as air conditioing, third would be lectric vehicle \n",
    "\n",
    "#Would start by finding three types of utilties to model those types of consumption \n",
    "\n",
    "#One utility function expressed there \n",
    "\n",
    "#Could yo do something like scaling based on their amount consumed \n",
    "#Consider how you have to model something from the renewbales\n",
    "#Different kinds of renewbales models evlauted with or without solar \n",
    "#Comapre baseline to with renewable \n",
    "\n",
    "#Utility function generated from data \n",
    "\n",
    "#solar panel traces for a spefic day \n",
    "#picantstreet solar with smart meter consumption \n",
    "#Do smaller scale data \n",
    "#Use actual soalr consumption data, have an estimated utility function \n",
    "#Then answer roguhly the same type of question, with or without soalr what do you get \n",
    "\n",
    "#Many choices of retail pricing \n",
    "#Everybody has their own different values \n",
    "#Could see fixed charges based on solar capacity \n",
    "\n",
    "#Use their pricing equations for retail pricing \n",
    "#Becomes a parameter of the problem rather than something that changes constantly \n",
    "#Use stepping equation \n",
    "#Utility has to go to regulator every year to ask them to reset the price, the regulator is doing something different from Ramsey pricing. \n",
    "#They guarantee their costs are recovered then choose a different parameter \n",
    "# Forgot about changing prices\n",
    "#PRice becomes a parameter \n",
    "\n",
    "#Do a project that is manaeble, build it around problem 1 but use real data of rooftop solar generation \n",
    "#Estimate utility parameter\n",
    "#Evaluate what owould be the surplus and what would be the payment with and without rooftop \n",
    "\n",
    "#Talks about how much rooftop solar generates \n",
    "\n",
    "90IdyNRwQOO0iv3PXV6wPAbfHl8dKrBFXWDWBadf"
   ]
  },
  {
   "cell_type": "code",
   "execution_count": 11,
   "metadata": {},
   "outputs": [
    {
     "name": "stdout",
     "output_type": "stream",
     "text": [
      "40.93565510435881\n",
      "https://developer.nrel.gov/api/solar/solar_resource/v1.json?lat=40.93565510435881&lon=-73.75707389271197&api_key=90IdyNRwQOO0iv3PXV6wPAbfHl8dKrBFXWDWBadf\n"
     ]
    }
   ],
   "source": [
    "import numpy as np\n",
    "from geopy.geocoders import Nominatim\n",
    "\n",
    "# initialize Nominatim API \n",
    "geolocator = Nominatim(user_agent=\"geoapiExercises\")\n",
    "\n",
    "place = \"NY Larchmont 10538\"\n",
    "location = geolocator.geocode(place)\n",
    "print(location.latitude) \n",
    "coords = [str(location.latitude), str(location.longitude)]\n",
    "\n",
    "api_pull = 'https://developer.nrel.gov/api/solar/solar_resource/v1.json?lat=' + coords[0]+ '&lon='+ coords[1] + '&api_key=90IdyNRwQOO0iv3PXV6wPAbfHl8dKrBFXWDWBadf' \n",
    "\n",
    "print(api_pull)"
   ]
  },
  {
   "cell_type": "code",
   "execution_count": 13,
   "metadata": {},
   "outputs": [
    {
     "name": "stdout",
     "output_type": "stream",
     "text": [
      "{'version': '1.0.0', 'warnings': [], 'errors': [], 'metadata': {'sources': ['Perez-SUNY/NREL, 2012']}, 'inputs': {'lat': '40.93565510435881', 'lon': '-73.75707389271197'}, 'outputs': {'avg_dni': {'annual': 3.9, 'monthly': {'jan': 3.36, 'feb': 4.05, 'mar': 4.16, 'apr': 4.2, 'may': 4.27, 'jun': 4.31, 'jul': 4.54, 'aug': 4.33, 'sep': 4.16, 'oct': 3.55, 'nov': 2.87, 'dec': 2.97}}, 'avg_ghi': {'annual': 3.95, 'monthly': {'jan': 2.01, 'feb': 2.92, 'mar': 3.92, 'apr': 4.81, 'may': 5.52, 'jun': 5.83, 'jul': 5.94, 'aug': 5.22, 'sep': 4.29, 'oct': 3.06, 'nov': 2.1, 'dec': 1.73}}, 'avg_lat_tilt': {'annual': 4.67, 'monthly': {'jan': 3.69, 'feb': 4.55, 'mar': 4.95, 'apr': 5.1, 'may': 5.26, 'jun': 5.29, 'jul': 5.55, 'aug': 5.35, 'sep': 5.1, 'oct': 4.35, 'nov': 3.5, 'dec': 3.32}}}}\n"
     ]
    }
   ],
   "source": [
    "import requests \n",
    "import json\n",
    "\n",
    "response_API = requests.get(api_pull) \n",
    "\n",
    "data =response_API.text\n",
    "parse_json = json.loads(data) \n",
    "print(parse_json)"
   ]
  }
 ],
 "metadata": {
  "interpreter": {
   "hash": "f6b0ef2f9fbdb61cb454c042bac49b656bc949f22e93d972bc9af2e30f9bd06a"
  },
  "kernelspec": {
   "display_name": "Python 3.9.7 ('base')",
   "language": "python",
   "name": "python3"
  },
  "language_info": {
   "codemirror_mode": {
    "name": "ipython",
    "version": 3
   },
   "file_extension": ".py",
   "mimetype": "text/x-python",
   "name": "python",
   "nbconvert_exporter": "python",
   "pygments_lexer": "ipython3",
   "version": "3.9.7"
  },
  "orig_nbformat": 4
 },
 "nbformat": 4,
 "nbformat_minor": 2
}
