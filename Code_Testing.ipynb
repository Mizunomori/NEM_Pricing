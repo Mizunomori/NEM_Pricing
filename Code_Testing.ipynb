{
 "cells": [
  {
   "cell_type": "code",
   "execution_count": null,
   "metadata": {},
   "outputs": [],
   "source": [
    "\n"
   ]
  },
  {
   "cell_type": "markdown",
   "metadata": {},
   "source": [
    "#What is needed, what do we want to simulate \n",
    "#Try to make a small-scale energy mangement system \n",
    "#Build something how much money you could save \n",
    "#Taking the perspective of someone trying to install a solar system \n",
    "#IF you have a solar system what do you gain by isntalling \n",
    "#ASsume you have 3 types of use of electricity - lighting and typical use, more intensive consumption\n",
    "#such as air conditioing, third would be lectric vehicle \n",
    "\n",
    "#Would start by finding three types of utilties to model those types of consumption \n",
    "\n",
    "#One utility function expressed there \n",
    "\n",
    "#Could yo do something like scaling based on their amount consumed \n",
    "#Consider how you have to model something from the renewbales\n",
    "#Different kinds of renewbales models evlauted with or without solar \n",
    "#Comapre baseline to with renewable \n",
    "\n",
    "#Utility function generated from data \n",
    "\n",
    "#solar panel traces for a spefic day \n",
    "#picantstreet solar with smart meter consumption \n",
    "#Do smaller scale data \n",
    "#Use actual soalr consumption data, have an estimated utility function \n",
    "#Then answer roguhly the same type of question, with or without soalr what do you get \n",
    "\n",
    "#Many choices of retail pricing \n",
    "#Everybody has their own different values \n",
    "#Could see fixed charges based on solar capacity \n",
    "\n",
    "#Use their pricing equations for retail pricing \n",
    "#Becomes a parameter of the problem rather than something that changes constantly \n",
    "#Use stepping equation \n",
    "#Utility has to go to regulator every year to ask them to reset the price, the regulator is doing something different from Ramsey pricing. \n",
    "#They guarantee their costs are recovered then choose a different parameter \n",
    "# Forgot about changing prices\n",
    "#PRice becomes a parameter \n",
    "\n",
    "#Do a project that is manaeble, build it around problem 1 but use real data of rooftop solar generation \n",
    "#Estimate utility parameter\n",
    "#Evaluate what owould be the surplus and what would be the payment with and without rooftop \n",
    "\n",
    "#Talks about how much rooftop solar generates \n",
    "\n",
    "90IdyNRwQOO0iv3PXV6wPAbfHl8dKrBFXWDWBadf"
   ]
  },
  {
   "cell_type": "code",
   "execution_count": 7,
   "metadata": {},
   "outputs": [
    {
     "name": "stdout",
     "output_type": "stream",
     "text": [
      "40.93565510435881\n",
      "https://developer.nrel.gov/api/solar/solar_resource/v1.json?lat=40.93565510435881&lon=-73.75707389271197&api_key=90IdyNRwQOO0iv3PXV6wPAbfHl8dKrBFXWDWBadf\n"
     ]
    }
   ],
   "source": [
    "import numpy as np\n",
    "from geopy.geocoders import Nominatim\n",
    "\n",
    "# initialize Nominatim API \n",
    "geolocator = Nominatim(user_agent=\"geoapiExercises\")\n",
    "\n",
    "place = \"NY Larchmont 10538\"\n",
    "location = geolocator.geocode(place)\n",
    "print(location.latitude) \n",
    "coords = [str(location.latitude), str(location.longitude)]\n",
    "\n",
    "api_pull = 'https://developer.nrel.gov/api/solar/solar_resource/v1.json?lat=' + coords[0]+ '&lon='+ coords[1] + '&api_key=90IdyNRwQOO0iv3PXV6wPAbfHl8dKrBFXWDWBadf' \n",
    "\n",
    "print(api_pull)"
   ]
  },
  {
   "cell_type": "code",
   "execution_count": 8,
   "metadata": {},
   "outputs": [
    {
     "name": "stdout",
     "output_type": "stream",
     "text": [
      "https://developer.nrel.gov/api/pvwatts/v6.json?lat=40.93565510435881&lon=-73.75707389271197&module_type=0&system_capacity=15&tilt=40.93565510435881&array_type=1&azimuth=0&losses=15&api_key=90IdyNRwQOO0iv3PXV6wPAbfHl8dKrBFXWDWBadf\n"
     ]
    }
   ],
   "source": [
    "import requests \n",
    "import json\n",
    "import pandas as pd\n",
    "\n",
    "#Selecting Type of Module Used in Array\n",
    "mod_options = ['Standard', 'Premium', 'Thin film'] \n",
    "\n",
    "module = 'Standard'\n",
    "\n",
    "mod_df =pd.DataFrame({'Standard': [0], 'Premium': [1], 'Thin film': [2]})\n",
    "\n",
    "module_type = mod_df[module][0]\n",
    "sys_cap = 15\n",
    "#Tilt of the Soalr Cells relatie to horizontal\n",
    "tilt = coords[0]\n",
    "\n",
    "#Selecting The Proper Array Arrangement\n",
    "arr_options = ['Fixed - Open Rack', 'Fixed - Roof Mounted', '1-Axis', '1-Axis Backtracking', '2-Axis']\n",
    "arr_df = pd.DataFrame({'Fixed - Open Rack':[0], 'Fixed - Roof Mounted':[1], '1-Axis':[2] \\\n",
    ",'1-Axis Backtracking':[3], '2-Axis':[4]})\n",
    "\n",
    "array = 'Fixed - Roof Mounted'\n",
    "\n",
    "array_type = arr_df[array][0]\n",
    "\n",
    "\n",
    "#Azimuth angle\n",
    "azi_options = ['S','SSW', 'SW','WSW','W','WNW', 'NW','NNW', 'N' ,'NNE','NE', 'ENE', 'E', 'ESE', 'SE','SSE']\n",
    "azi_df = pd.DataFrame({'S':[0], 'SSW':[22.5], 'SW':[45],'WSW':[67.5],'W':[90],'WNW':[112.5], 'NW':[135],'NNW':[157.5],\\\n",
    "     'N':[180],'NNE':[202.5],'NE':[225], 'ENE':[247.5], 'E':[270], 'ESE':[297.5], 'SE':[315],'SSE':[337.5]}) \n",
    "azi = 'S'\n",
    "azimuth = azi_df[azi][0]\n",
    "\n",
    "# Now Add the losses your system will experience \n",
    "losses = 15\n",
    "\n",
    "\n",
    "# Now Use the Latitude and Longitude Given to doan API pull of the soalr data from NREL \n",
    "api_pull = 'https://developer.nrel.gov/api/pvwatts/v6.json?lat=' + coords[0]+ '&lon='+ coords[1]\\\n",
    " + '&module_type=' + str(module_type)+ '&system_capacity=' + str(sys_cap) + '&tilt=' + str(tilt) + '&array_type='\\\n",
    "    + str(array_type) + '&azimuth=' + str(azimuth) +'&losses=' + str(losses)\\\n",
    "         +'&api_key=90IdyNRwQOO0iv3PXV6wPAbfHl8dKrBFXWDWBadf'\n",
    "\n",
    "print(api_pull)"
   ]
  },
  {
   "cell_type": "code",
   "execution_count": 9,
   "metadata": {},
   "outputs": [
    {
     "name": "stdout",
     "output_type": "stream",
     "text": [
      "0      234.132751\n",
      "1      293.464539\n",
      "2      522.079834\n",
      "3      989.313354\n",
      "4     1419.654785\n",
      "5     1529.273193\n",
      "6     1541.031616\n",
      "7     1112.291138\n",
      "8      597.998779\n",
      "9      335.686462\n",
      "10     232.596756\n",
      "11     216.794159\n",
      "Name: ac_monthly, dtype: float64\n"
     ]
    }
   ],
   "source": [
    "response_API = requests.get(api_pull) \n",
    "\n",
    "data =response_API.text\n",
    "dict = json.loads(data) \n",
    "d2 = dict['outputs'] \n",
    "\n",
    "#Need to figure out how to access ghi data specifically by month \n",
    "df = pd.DataFrame.from_dict(d2)\n",
    "print(df.ac_monthly)  "
   ]
  },
  {
   "cell_type": "code",
   "execution_count": 10,
   "metadata": {},
   "outputs": [
    {
     "name": "stdout",
     "output_type": "stream",
     "text": [
      "41\n"
     ]
    },
    {
     "ename": "AttributeError",
     "evalue": "'DataFrame' object has no attribute 'monthly'",
     "output_type": "error",
     "traceback": [
      "\u001b[1;31m---------------------------------------------------------------------------\u001b[0m",
      "\u001b[1;31mAttributeError\u001b[0m                            Traceback (most recent call last)",
      "\u001b[1;32m~\\AppData\\Local\\Temp/ipykernel_22688/3133540847.py\u001b[0m in \u001b[0;36m<module>\u001b[1;34m\u001b[0m\n\u001b[0;32m      1\u001b[0m \u001b[0mprint\u001b[0m\u001b[1;33m(\u001b[0m\u001b[0mround\u001b[0m\u001b[1;33m(\u001b[0m\u001b[0mfloat\u001b[0m\u001b[1;33m(\u001b[0m\u001b[0mcoords\u001b[0m\u001b[1;33m[\u001b[0m\u001b[1;36m0\u001b[0m\u001b[1;33m]\u001b[0m\u001b[1;33m)\u001b[0m\u001b[1;33m)\u001b[0m\u001b[1;33m)\u001b[0m\u001b[1;33m\u001b[0m\u001b[1;33m\u001b[0m\u001b[0m\n\u001b[1;32m----> 2\u001b[1;33m \u001b[0md3\u001b[0m \u001b[1;33m=\u001b[0m \u001b[0mdf\u001b[0m\u001b[1;33m.\u001b[0m\u001b[0mmonthly\u001b[0m\u001b[1;33m\u001b[0m\u001b[1;33m\u001b[0m\u001b[0m\n\u001b[0m\u001b[0;32m      3\u001b[0m \u001b[1;33m\u001b[0m\u001b[0m\n\u001b[0;32m      4\u001b[0m \u001b[0mprint\u001b[0m\u001b[1;33m(\u001b[0m\u001b[0md3\u001b[0m\u001b[1;33m.\u001b[0m\u001b[0mavg_ghi\u001b[0m\u001b[1;33m)\u001b[0m\u001b[1;33m\u001b[0m\u001b[1;33m\u001b[0m\u001b[0m\n\u001b[0;32m      5\u001b[0m \u001b[1;33m\u001b[0m\u001b[0m\n",
      "\u001b[1;32mc:\\Users\\harwo\\anaconda3\\lib\\site-packages\\pandas\\core\\generic.py\u001b[0m in \u001b[0;36m__getattr__\u001b[1;34m(self, name)\u001b[0m\n\u001b[0;32m   5485\u001b[0m         ):\n\u001b[0;32m   5486\u001b[0m             \u001b[1;32mreturn\u001b[0m \u001b[0mself\u001b[0m\u001b[1;33m[\u001b[0m\u001b[0mname\u001b[0m\u001b[1;33m]\u001b[0m\u001b[1;33m\u001b[0m\u001b[1;33m\u001b[0m\u001b[0m\n\u001b[1;32m-> 5487\u001b[1;33m         \u001b[1;32mreturn\u001b[0m \u001b[0mobject\u001b[0m\u001b[1;33m.\u001b[0m\u001b[0m__getattribute__\u001b[0m\u001b[1;33m(\u001b[0m\u001b[0mself\u001b[0m\u001b[1;33m,\u001b[0m \u001b[0mname\u001b[0m\u001b[1;33m)\u001b[0m\u001b[1;33m\u001b[0m\u001b[1;33m\u001b[0m\u001b[0m\n\u001b[0m\u001b[0;32m   5488\u001b[0m \u001b[1;33m\u001b[0m\u001b[0m\n\u001b[0;32m   5489\u001b[0m     \u001b[1;32mdef\u001b[0m \u001b[0m__setattr__\u001b[0m\u001b[1;33m(\u001b[0m\u001b[0mself\u001b[0m\u001b[1;33m,\u001b[0m \u001b[0mname\u001b[0m\u001b[1;33m:\u001b[0m \u001b[0mstr\u001b[0m\u001b[1;33m,\u001b[0m \u001b[0mvalue\u001b[0m\u001b[1;33m)\u001b[0m \u001b[1;33m->\u001b[0m \u001b[1;32mNone\u001b[0m\u001b[1;33m:\u001b[0m\u001b[1;33m\u001b[0m\u001b[1;33m\u001b[0m\u001b[0m\n",
      "\u001b[1;31mAttributeError\u001b[0m: 'DataFrame' object has no attribute 'monthly'"
     ]
    }
   ],
   "source": [
    "print(round(float(coords[0]))) \n",
    "d3 = df.monthly \n",
    "\n",
    "print(d3.avg_ghi)\n",
    "\n",
    "mod_df =pd.DataFrame({'Standard': [0], 'Premium': [1], 'Thin film': [2]})\n",
    "print(mod_df['Premium'][0])"
   ]
  },
  {
   "cell_type": "code",
   "execution_count": 11,
   "metadata": {},
   "outputs": [
    {
     "name": "stdout",
     "output_type": "stream",
     "text": [
      "[ 206.14285714 2426.14285714  -38.32142857]\n"
     ]
    },
    {
     "data": {
      "image/png": "[encoded data removed]",
      "text/plain": [
       "<Figure size 432x288 with 1 Axes>"
      ]
     },
     "metadata": {
      "needs_background": "light"
     },
     "output_type": "display_data"
    }
   ],
   "source": [
    "import numpy as np \n",
    "from numpy.polynomial import polynomial as p \n",
    "import matplotlib.pyplot as plt\n",
    "size = [4 , 6 , 8, 10, 12, 14, 16 ]\n",
    "cost = [9620, 13098, 16872, 20350, 24420, 26936, 28860]\n",
    "degree = 2\n",
    "c, stats = p.polyfit(size, cost, degree, full=True)\n",
    "size_fit = np.linspace(0, 20, 101)\n",
    "cost_fit = p.polyval(size_fit,c)\n",
    "plt.plot(size, cost, '*', label ='Cost Data') \n",
    "\n",
    "\n",
    "plt.plot(size_fit, cost_fit, '--', label = 'Fit: C = %5.3f * s^2 + %5.3f * s + %5.3f' %tuple([c[2], c[1], c[0]]))\n",
    "plt.xlabel('System Size (kW)')\n",
    "plt.ylabel('Cost ($)')\n",
    "plt.legend()\n",
    "plt.rcParams['font.size'] = 13\n",
    "print(c)"
   ]
  },
  {
   "cell_type": "code",
   "execution_count": 12,
   "metadata": {},
   "outputs": [
    {
     "ename": "NameError",
     "evalue": "name 'TimezoneFinder' is not defined",
     "output_type": "error",
     "traceback": [
      "\u001b[1;31m---------------------------------------------------------------------------\u001b[0m",
      "\u001b[1;31mNameError\u001b[0m                                 Traceback (most recent call last)",
      "\u001b[1;32m~\\AppData\\Local\\Temp/ipykernel_22688/2671298279.py\u001b[0m in \u001b[0;36m<module>\u001b[1;34m\u001b[0m\n\u001b[1;32m----> 1\u001b[1;33m \u001b[0mobj\u001b[0m \u001b[1;33m=\u001b[0m \u001b[0mTimezoneFinder\u001b[0m\u001b[1;33m(\u001b[0m\u001b[1;33m)\u001b[0m\u001b[1;33m\u001b[0m\u001b[1;33m\u001b[0m\u001b[0m\n\u001b[0m\u001b[0;32m      2\u001b[0m \u001b[0mtz\u001b[0m \u001b[1;33m=\u001b[0m \u001b[0mobj\u001b[0m\u001b[1;33m.\u001b[0m\u001b[0mtimezone_at\u001b[0m\u001b[1;33m(\u001b[0m\u001b[0mlng\u001b[0m \u001b[1;33m=\u001b[0m \u001b[0mlon\u001b[0m\u001b[1;33m,\u001b[0m \u001b[0mlat\u001b[0m \u001b[1;33m=\u001b[0m \u001b[0mlat\u001b[0m\u001b[1;33m)\u001b[0m\u001b[1;33m\u001b[0m\u001b[1;33m\u001b[0m\u001b[0m\n\u001b[0;32m      3\u001b[0m \u001b[0msite_location\u001b[0m \u001b[1;33m=\u001b[0m \u001b[0mlocation\u001b[0m\u001b[1;33m.\u001b[0m\u001b[0mLocation\u001b[0m\u001b[1;33m(\u001b[0m\u001b[0mlat\u001b[0m\u001b[1;33m,\u001b[0m \u001b[0mlon\u001b[0m\u001b[1;33m,\u001b[0m \u001b[0mtz\u001b[0m\u001b[1;33m=\u001b[0m\u001b[0mtz\u001b[0m\u001b[1;33m)\u001b[0m\u001b[1;33m\u001b[0m\u001b[1;33m\u001b[0m\u001b[0m\n\u001b[0;32m      4\u001b[0m \u001b[1;33m\u001b[0m\u001b[0m\n\u001b[0;32m      5\u001b[0m \u001b[0mdates\u001b[0m\u001b[1;33m=\u001b[0m \u001b[1;33m[\u001b[0m\u001b[1;34m'01-01-2019'\u001b[0m\u001b[1;33m,\u001b[0m \u001b[1;34m'01-01-2021'\u001b[0m\u001b[1;33m]\u001b[0m\u001b[1;33m\u001b[0m\u001b[1;33m\u001b[0m\u001b[0m\n",
      "\u001b[1;31mNameError\u001b[0m: name 'TimezoneFinder' is not defined"
     ]
    }
   ],
   "source": [
    "obj = TimezoneFinder()\n",
    "tz = obj.timezone_at(lng = lon, lat = lat) \n",
    "site_location = location.Location(lat, lon, tz=tz)\n",
    "\n",
    "dates= ['01-01-2019', '01-01-2021']\n",
    "days = [31, 28, 31, 30, 31, 30, 31,31, 30, 31, 30, 31] \n",
    "\n",
    "dy_irad = np.zeros([8760,2])\n",
    "for i in range(0,len(dates)):\n",
    "     dy_irad[:,i] = get_irradiance(site_location, dates[i], tilt, azimuth)\n",
    "     \n",
    "     \n",
    "for h in range(0,len(days)): \n",
    "     avg_irad = (dy_irad[:,0] + dy_irad[:,1])/2 \n"
   ]
  },
  {
   "cell_type": "code",
   "execution_count": 5,
   "metadata": {},
   "outputs": [
    {
     "name": "stdout",
     "output_type": "stream",
     "text": [
      "  company_id                            utility_name  \\\n",
      "0       4226  Consolidated Edison Co of New York Inc   \n",
      "\n",
      "                                        utility_info  commercial  industrial  \\\n",
      "0  {'company_id': '4226', 'utility_name': 'Consol...      0.1155       0.106   \n",
      "\n",
      "   residential  \n",
      "0       0.2321  \n",
      "1500.0\n"
     ]
    }
   ],
   "source": [
    "# Now Use the Latitude and Longitude Given to doan API pull of the utility rates from NREL \n",
    "price_pull = 'https://developer.nrel.gov/api/utility_rates/v3.json?lat=' + coords[0]+ '&lon='+ coords[1] +'&api_key=90IdyNRwQOO0iv3PXV6wPAbfHl8dKrBFXWDWBadf'\n",
    "\n",
    "response_API = requests.get(price_pull) \n",
    "# utility pricing data is in $/kWh \n",
    "Pdata =response_API.text\n",
    "Pdict = json.loads(Pdata) \n",
    "Pd2 = Pdict['outputs'] \n",
    "price_df = pd.DataFrame.from_dict(Pd2)\n",
    "print(price_df) \n",
    "\n",
    "print(7500 *.2)"
   ]
  },
  {
   "cell_type": "code",
   "execution_count": 6,
   "metadata": {},
   "outputs": [
    {
     "name": "stdout",
     "output_type": "stream",
     "text": [
      "[0.027909024, 0.028068565, 0.028688672, 0.034958594, 0.036082744, 0.036810749, 0.048275996, 0.045167662, 0.042198906, 0.042714116, 0.042488399, 0.044230298, 0.042157561, 0.04218743, 0.040286818, 0.041876612, 0.046910151, 0.057671775, 0.055978038, 0.056256477, 0.051948516, 0.043169701, 0.03390215, 0.030061045]\n"
     ]
    }
   ],
   "source": [
    "summ = [0.030123129,0.028412052,0.027893306,0.0282233,0.029348275,0.028643837, \\\n",
    "    0.034073772,0.038129946,0.040214751,0.040616718,0.043581589,0.046959892,0.046221516,0.047289287, \\\n",
    "        0.049114413,0.051597397,0.05465336,0.054475666,0.051541176,0.054747908,0.053664921,0.04792486,0.039092799,0.033456129] \n",
    "fall = [0.027909024,\t0.028068565,\t0.028688672,\t0.034958594,\t0.036082744,\t0.036810749,\t0.048275996,\t0.045167662,\t0.042198906,\\\n",
    "     \t0.042714116,\t0.042488399,\t0.044230298,\t0.042157561,\t0.04218743,\t0.040286818,\t0.041876612,\t0.046910151,\t0.057671775,\t0.055978038,\\\n",
    "               \t0.056256477,\t0.051948516,\t0.043169701,\t0.03390215,\t0.030061045]\n",
    "print(fall)"
   ]
  },
  {
   "cell_type": "code",
   "execution_count": 25,
   "metadata": {},
   "outputs": [
    {
     "name": "stdout",
     "output_type": "stream",
     "text": [
      "[  0.           0.           0.           0.           0.\n",
      "   0.           0.           0.          76.53043282 328.64558798\n",
      " 559.17065464 733.45192353 838.4614136  866.94896261 816.95495811\n",
      " 691.84990223 500.25588866 257.47109758  30.56916619   0.\n",
      "   0.           0.           0.           0.        ]\n"
     ]
    }
   ],
   "source": [
    "from collections import namedtuple\n",
    "import altair as alt\n",
    "#from tkinter import Image\n",
    "import math\n",
    "import streamlit as st\n",
    "import numpy as np\n",
    "import time \n",
    "import pandas as pd\n",
    "from geopy.geocoders import Nominatim \n",
    "import requests \n",
    "import json\n",
    "from pvlib import location as loc\n",
    "from pvlib import irradiance\n",
    "import pandas as pd\n",
    "from matplotlib import pyplot as plt\n",
    "from plot_ghi_transposition import get_irradiance\n",
    "from timezonefinder import TimezoneFinder \n",
    "\n",
    "lon = -76.498 \n",
    "lat = 42.4218\n",
    "obj = TimezoneFinder()\n",
    "tz = obj.timezone_at(lng = lon, lat = lat) \n",
    "site_location = loc.Location(lat, lon, tz=tz)\n",
    "tilt = 30 \n",
    "azimuth = 180\n",
    "dates= ['07-01-2019', '07-01-2021','10-01-2019', '10-01-2021']\n",
    "days = 31\n",
    "\n",
    "dy_irad = np.zeros([4,744,2])\n",
    "for i in range(0,len(dates)):\n",
    "     dy_irad[i,:,:] = get_irradiance(site_location, dates[i], tilt, azimuth)\n",
    "\n",
    "\n",
    "\n",
    "summ_irad = (dy_irad[0,:,:] + dy_irad[1,:,:])/2 \n",
    "fall_irad = (dy_irad[2,:,:] + dy_irad[3,:,:])/2 \n",
    "\n",
    "\n",
    "summ_hrs = np.zeros([24])\n",
    "fall_hrs = np.zeros([24])\n",
    "for j in range(0, 31):\n",
    "     summ_hrs[:] = summ_hrs[:]+ summ_irad[j*24:(j*24+24),1]/31\n",
    "     fall_hrs[:] = fall_hrs[:] + fall_irad[j*24:(j*24+24),1]/31 \n",
    "\n",
    "print(fall_hrs)"
   ]
  },
  {
   "cell_type": "code",
   "execution_count": 44,
   "metadata": {},
   "outputs": [],
   "source": [
    "summ_pwr = summ_hrs *.2\n",
    "fall_pwr = fall_hrs * .2\n",
    "res_price = 0.05\n",
    "pm = res_price - 0.03 \n",
    "pp = res_price\n",
    "\n",
    "q_s = np.zeros([24])\n",
    "q_f = np.zeros([24])\n",
    "for h in range(0,23): \n",
    "     a_s = summ[h] + res_price\n",
    "     a_f = fall[h] + res_price \n",
    "     qp_s = np.max([summ_pwr[h] +.01, a_s])\n",
    "     qm_s = summ_pwr[h] - .05 \n",
    "     qp_f = np.max([fall_pwr[h] +.01, a_f])\n",
    "     qm_f = fall_pwr[h] - .05\n",
    "     #calculations for summer  \n",
    "     if summ_pwr[h]   != 0:\n",
    "          while a_s*(qp_s+.05) - .5 * (qp_s+.05)**2 -pp*(qp_s+.05 - summ_pwr[h]) > a_s*(qp_s) - .5 * (qp_s)**2 -pp*(qp_s - summ_pwr[h]):\n",
    "               qp_s = qp_s +.05\n",
    "          while a_s*(qm_s-.05) - .5 * (qm_s-.05)**2 -pm*(qm_s+.05 - summ_pwr[h]) > a_s*(qm_s) - .5 * (qm_s)**2 -pm*(qm_s - summ_pwr[h]):\n",
    "               qm_s = qm_s -.05\n",
    "     else:\n",
    "          while a_s*(qp_s+.05) - .5 * (qp_s+.05)**2 -pp*(qp_s+.05 - summ_pwr[h]) > a_s*(qp_s) - .5 * (qp_s)**2 -pp*(qp_s - summ_pwr[h]):\n",
    "               qp_s = qp_s +.05\n",
    "     Sps = a_s*(qp_s) - .5 * (qp_s)**2 -pp*(qp_s - summ_pwr[h])\n",
    "     Sms = a_s*(qm_s) - .5 * (qm_s)**2 -pm*(qm_s - summ_pwr[h])\n",
    "     Ses = a_s * summ_pwr[h] - .5*(summ_pwr[h]**2) \n",
    "     Ss = np.max([Sps,Sms,Ses])\n",
    "     if Ss == Sps : \n",
    "          q_s[h] = qp_s \n",
    "     elif Ss == Sms: \n",
    "          q_s[h] = qm_s \n",
    "     else: \n",
    "          q_s[h] = summ_pwr[h] \n",
    "\n",
    "     #Calculations for fall\n",
    "     if fall_pwr[h]   != 0:\n",
    "          while a_s*(qp_f+.05) - .5 * (qp_f+.05)**2 -pp*(qp_f+.05 - fall_pwr[h]) > a_s*(qp_f) - .5 * (qp_f)**2 -pp*(qp_f - fall_pwr[h]):\n",
    "               qp_f = qp_f +.05\n",
    "          while a_s*(qm_f-.05) - .5 * (qm_f-.05)**2 -pm*(qm_f+.05 - fall_pwr[h]) > a_s*(qm_f) - .5 * (qm_f)**2 -pm*(qm_f - fall_pwr[h]):\n",
    "               qm_f = qm_f -.05\n",
    "     else:\n",
    "          while a_s*(qp_f+.05) - .5 * (qp_f+.05)**2 -pp*(qp_f+.05 - fall_pwr[h]) > a_s*(qp_f) - .5 * (qp_f)**2 -pp*(qp_f - fall_pwr[h]):\n",
    "               qp_f = qp_f +.05 \n",
    "     \n",
    "     Spf = a_f*(qp_f) - .5 * (qp_f)**2 -pp*(qp_f - fall_pwr[h])\n",
    "     Smf = a_f*(qm_f) - .5 * (qm_f)**2 -pm*(qm_f - fall_pwr[h])\n",
    "     Sef = a_f * fall_pwr[h] - .5*(fall_pwr[h]**2) \n",
    "     Sf = np.max([Spf,Smf,Sef])\n",
    "     if Sf == Spf : \n",
    "          q_f[h] = qp_f \n",
    "     elif Sf == Smf: \n",
    "          q_f[h] = qm_f \n",
    "     else: \n",
    "          q_f[h] = fall_pwr[h] "
   ]
  },
  {
   "cell_type": "code",
   "execution_count": 45,
   "metadata": {},
   "outputs": [
    {
     "name": "stdout",
     "output_type": "stream",
     "text": [
      "-0.004704639950000001\n",
      "[0.         0.         0.         0.         0.         0.\n",
      " 0.09109671 0.12974208 0.09471087 0.10984335 0.09122204 0.12216142\n",
      " 0.11043189 0.123471   0.10594446 0.10592543 0.13390155 0.13455726\n",
      " 0.11291912 0.14558808 0.13432631 0.         0.         0.        ]\n"
     ]
    }
   ],
   "source": [
    "\n",
    "\n",
    "Sps = a_s*(qp_s) - .5 * (qp_s)**2 -pp*(qp_s - summ_pwr[h])\n",
    "Sms = a_s*(qm_s) - .5 * (qm_s)**2 -pm*(qm_s - summ_pwr[h])\n",
    "Ses = a_s * summ_pwr[h] - .5*(summ_pwr[h]**2) \n",
    "print(Sms)\n",
    "Ss = np.max([Sps,Sms,Ses]) \n",
    "\n",
    "print(q_s)"
   ]
  }
 ],
 "metadata": {
  "interpreter": {
   "hash": "93ff35c2686ff29510cd4a25849e08215f96953254d7f4f2472f725177cdf568"
  },
  "kernelspec": {
   "display_name": "Python 3.9.7 ('base')",
   "language": "python",
   "name": "python3"
  },
  "language_info": {
   "codemirror_mode": {
    "name": "ipython",
    "version": 3
   },
   "file_extension": ".py",
   "mimetype": "text/x-python",
   "name": "python",
   "nbconvert_exporter": "python",
   "pygments_lexer": "ipython3",
   "version": "3.9.7"
  },
  "orig_nbformat": 4
 },
 "nbformat": 4,
 "nbformat_minor": 2
}
