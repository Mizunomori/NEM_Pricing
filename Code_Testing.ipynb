{
 "cells": [
  {
   "cell_type": "code",
   "execution_count": null,
   "metadata": {},
   "outputs": [],
   "source": [
    "\n"
   ]
  },
  {
   "cell_type": "markdown",
   "metadata": {},
   "source": [
    "#What is needed, what do we want to simulate \n",
    "#Try to make a small-scale energy mangement system \n",
    "#Build something how much money you could save \n",
    "#Taking the perspective of someone trying to install a solar system \n",
    "#IF you have a solar system what do you gain by isntalling \n",
    "#ASsume you have 3 types of use of electricity - lighting and typical use, more intensive consumption\n",
    "#such as air conditioing, third would be lectric vehicle \n",
    "\n",
    "#Would start by finding three types of utilties to model those types of consumption \n",
    "\n",
    "#One utility function expressed there \n",
    "\n",
    "#Could yo do something like scaling based on their amount consumed \n",
    "#Consider how you have to model something from the renewbales\n",
    "#Different kinds of renewbales models evlauted with or without solar \n",
    "#Comapre baseline to with renewable \n",
    "\n",
    "#Utility function generated from data \n",
    "\n",
    "#solar panel traces for a spefic day \n",
    "#picantstreet solar with smart meter consumption \n",
    "#Do smaller scale data \n",
    "#Use actual soalr consumption data, have an estimated utility function \n",
    "#Then answer roguhly the same type of question, with or without soalr what do you get \n",
    "\n",
    "#Many choices of retail pricing \n",
    "#Everybody has their own different values \n",
    "#Could see fixed charges based on solar capacity \n",
    "\n",
    "#Use their pricing equations for retail pricing \n",
    "#Becomes a parameter of the problem rather than something that changes constantly \n",
    "#Use stepping equation \n",
    "#Utility has to go to regulator every year to ask them to reset the price, the regulator is doing something different from Ramsey pricing. \n",
    "#They guarantee their costs are recovered then choose a different parameter \n",
    "# Forgot about changing prices\n",
    "#PRice becomes a parameter \n",
    "\n",
    "#Do a project that is manaeble, build it around problem 1 but use real data of rooftop solar generation \n",
    "#Estimate utility parameter\n",
    "#Evaluate what owould be the surplus and what would be the payment with and without rooftop \n",
    "\n",
    "#Talks about how much rooftop solar generates \n",
    "\n",
    "90IdyNRwQOO0iv3PXV6wPAbfHl8dKrBFXWDWBadf"
   ]
  },
  {
   "cell_type": "code",
   "execution_count": 20,
   "metadata": {},
   "outputs": [
    {
     "name": "stdout",
     "output_type": "stream",
     "text": [
      "40.93565510435881\n",
      "https://developer.nrel.gov/api/solar/solar_resource/v1.json?lat=40.93565510435881&lon=-73.75707389271197&api_key=90IdyNRwQOO0iv3PXV6wPAbfHl8dKrBFXWDWBadf\n"
     ]
    }
   ],
   "source": [
    "import numpy as np\n",
    "from geopy.geocoders import Nominatim\n",
    "\n",
    "# initialize Nominatim API \n",
    "geolocator = Nominatim(user_agent=\"geoapiExercises\")\n",
    "\n",
    "place = \"NY Larchmont 10538\"\n",
    "location = geolocator.geocode(place)\n",
    "print(location.latitude) \n",
    "coords = [str(location.latitude), str(location.longitude)]\n",
    "\n",
    "api_pull = 'https://developer.nrel.gov/api/solar/solar_resource/v1.json?lat=' + coords[0]+ '&lon='+ coords[1] + '&api_key=90IdyNRwQOO0iv3PXV6wPAbfHl8dKrBFXWDWBadf' \n",
    "\n",
    "print(api_pull)"
   ]
  },
  {
   "cell_type": "code",
   "execution_count": 21,
   "metadata": {},
   "outputs": [
    {
     "name": "stdout",
     "output_type": "stream",
     "text": [
      "https://developer.nrel.gov/api/pvwatts/v6.json?lat=40.93565510435881&lon=-73.75707389271197&module_type=0&system_capacity=400&tilt=40.93565510435881&array_type=1&azimuth=0&losses=15&api_key=90IdyNRwQOO0iv3PXV6wPAbfHl8dKrBFXWDWBadf\n"
     ]
    }
   ],
   "source": [
    "import requests \n",
    "import json\n",
    "import pandas as pd\n",
    "\n",
    "#Selecting Type of Module Used in Array\n",
    "mod_options = ['Standard', 'Premium', 'Thin film'] \n",
    "\n",
    "module = 'Standard'\n",
    "\n",
    "mod_df =pd.DataFrame({'Standard': [0], 'Premium': [1], 'Thin film': [2]})\n",
    "\n",
    "module_type = mod_df[module][0]\n",
    "sys_cap = 400\n",
    "#Tilt of the Soalr Cells relatie to horizontal\n",
    "tilt = coords[0]\n",
    "\n",
    "#Selecting The Proper Array Arrangement\n",
    "arr_options = ['Fixed - Open Rack', 'Fixed - Roof Mounted', '1-Axis', '1-Axis Backtracking', '2-Axis']\n",
    "arr_df = pd.DataFrame({'Fixed - Open Rack':[0], 'Fixed - Roof Mounted':[1], '1-Axis':[2] \\\n",
    ",'1-Axis Backtracking':[3], '2-Axis':[4]})\n",
    "\n",
    "array = 'Fixed - Roof Mounted'\n",
    "\n",
    "array_type = arr_df[array][0]\n",
    "\n",
    "\n",
    "#Azimuth angle\n",
    "azi_options = ['S','SSW', 'SW','WSW','W','WNW', 'NW','NNW', 'N' ,'NNE','NE', 'ENE', 'E', 'ESE', 'SE','SSE']\n",
    "azi_df = pd.DataFrame({'S':[0], 'SSW':[22.5], 'SW':[45],'WSW':[67.5],'W':[90],'WNW':[112.5], 'NW':[135],'NNW':[157.5],\\\n",
    "     'N':[180],'NNE':[202.5],'NE':[225], 'ENE':[247.5], 'E':[270], 'ESE':[297.5], 'SE':[315],'SSE':[337.5]}) \n",
    "azi = 'S'\n",
    "azimuth = azi_df[azi][0]\n",
    "\n",
    "# Now Add the losses your system will experience \n",
    "losses = 15\n",
    "\n",
    "\n",
    "# Now Use the Latitude and Longitude Given to doan API pull of the soalr data from NREL \n",
    "api_pull = 'https://developer.nrel.gov/api/pvwatts/v6.json?lat=' + coords[0]+ '&lon='+ coords[1]\\\n",
    " + '&module_type=' + str(module_type)+ '&system_capacity=' + str(sys_cap) + '&tilt=' + str(tilt) + '&array_type='\\\n",
    "    + str(array_type) + '&azimuth=' + str(azimuth) +'&losses=' + str(losses)\\\n",
    "         +'&api_key=90IdyNRwQOO0iv3PXV6wPAbfHl8dKrBFXWDWBadf'\n",
    "\n",
    "print(api_pull)"
   ]
  },
  {
   "cell_type": "code",
   "execution_count": 22,
   "metadata": {},
   "outputs": [
    {
     "name": "stdout",
     "output_type": "stream",
     "text": [
      "      ac_monthly  poa_monthly  solrad_monthly    dc_monthly  ac_annual  \\\n",
      "0    6243.541016    18.691063        0.602938   6968.793457   240648.5   \n",
      "1    7825.723633    22.967543        0.820269   8573.927734   240648.5   \n",
      "2   13922.125977    46.800194        1.509684  14966.823242   240648.5   \n",
      "3   26381.685547    88.506516        2.950217  27783.021484   240648.5   \n",
      "4   37857.453125   126.678505        4.086403  39674.183594   240648.5   \n",
      "5   40780.601562   139.086838        4.636228  42655.367188   240648.5   \n",
      "6   41094.175781   141.078140        4.550908  42995.781250   240648.5   \n",
      "7   29661.119141   105.999878        3.419351  31222.853516   240648.5   \n",
      "8   15946.631836    60.584152        2.019472  17023.238281   240648.5   \n",
      "9    8951.636719    29.036486        0.936661   9830.170898   240648.5   \n",
      "10   6202.582031    18.817793        0.627260   6904.893555   240648.5   \n",
      "11   5781.179199    17.419127        0.561907   6457.879883   240648.5   \n",
      "\n",
      "    solrad_annual  capacity_factor  \n",
      "0        2.226775         6.867823  \n",
      "1        2.226775         6.867823  \n",
      "2        2.226775         6.867823  \n",
      "3        2.226775         6.867823  \n",
      "4        2.226775         6.867823  \n",
      "5        2.226775         6.867823  \n",
      "6        2.226775         6.867823  \n",
      "7        2.226775         6.867823  \n",
      "8        2.226775         6.867823  \n",
      "9        2.226775         6.867823  \n",
      "10       2.226775         6.867823  \n",
      "11       2.226775         6.867823  \n"
     ]
    }
   ],
   "source": [
    "response_API = requests.get(api_pull) \n",
    "\n",
    "data =response_API.text\n",
    "dict = json.loads(data) \n",
    "d2 = dict['outputs'] \n",
    "\n",
    "#Need to figure out how to access ghi data specifically by month \n",
    "df = pd.DataFrame.from_dict(d2)\n",
    "print(df)  "
   ]
  },
  {
   "cell_type": "code",
   "execution_count": 23,
   "metadata": {},
   "outputs": [
    {
     "name": "stdout",
     "output_type": "stream",
     "text": [
      "41\n",
      "{'jan': 2.01, 'feb': 2.92, 'mar': 3.92, 'apr': 4.81, 'may': 5.52, 'jun': 5.83, 'jul': 5.94, 'aug': 5.22, 'sep': 4.29, 'oct': 3.06, 'nov': 2.1, 'dec': 1.73}\n",
      "1\n"
     ]
    }
   ],
   "source": [
    "print(round(float(coords[0]))) \n",
    "d3 = df.monthly \n",
    "\n",
    "print(d3.avg_ghi)\n",
    "\n",
    "mod_df =pd.DataFrame({'Standard': [0], 'Premium': [1], 'Thin film': [2]})\n",
    "print(mod_df['Premium'][0])"
   ]
  },
  {
   "cell_type": "code",
   "execution_count": 18,
   "metadata": {},
   "outputs": [
    {
     "name": "stdout",
     "output_type": "stream",
     "text": [
      "[ 206.14285714 2426.14285714  -38.32142857]\n"
     ]
    },
    {
     "data": {
      "image/png": "[encoded data removed]",
      "text/plain": [
       "<Figure size 432x288 with 1 Axes>"
      ]
     },
     "metadata": {
      "needs_background": "light"
     },
     "output_type": "display_data"
    }
   ],
   "source": [
    "import numpy as np \n",
    "from numpy.polynomial import polynomial as p \n",
    "import matplotlib.pyplot as plt\n",
    "size = [4 , 6 , 8, 10, 12, 14, 16 ]\n",
    "cost = [9620, 13098, 16872, 20350, 24420, 26936, 28860]\n",
    "degree = 2\n",
    "c, stats = p.polyfit(size, cost, degree, full=True)\n",
    "size_fit = np.linspace(0, 20, 101)\n",
    "cost_fit = p.polyval(size_fit,c)\n",
    "plt.plot(size, cost, '*') \n",
    "\n",
    "\n",
    "plt.plot(size_fit, cost_fit, '--')\n",
    "\n",
    "print(c)"
   ]
  },
  {
   "cell_type": "code",
   "execution_count": null,
   "metadata": {},
   "outputs": [],
   "source": [
    "obj = TimezoneFinder()\n",
    "tz = obj.timezone_at(lng = lon, lat = lat) \n",
    "site_location = location.Location(lat, lon, tz=tz)\n",
    "\n",
    "dates= ['01-01-2019', '01-01-2021']\n",
    "days = [31, 28, 31, 30, 31, 30, 31,31, 30, 31, 30, 31] \n",
    "\n",
    "dy_irad = np.zeros([8760,2])\n",
    "for i in range(0,len(dates)):\n",
    "     dy_irad[:,i] = get_irradiance(site_location, dates[i], tilt, azimuth)\n",
    "     \n",
    "     \n",
    "for h in range(0,len(days)): \n",
    "     avg_irad = (dy_irad[:,0] + dy_irad[:,1])/2 \n"
   ]
  }
 ],
 "metadata": {
  "interpreter": {
   "hash": "93ff35c2686ff29510cd4a25849e08215f96953254d7f4f2472f725177cdf568"
  },
  "kernelspec": {
   "display_name": "Python 3.9.7 ('base')",
   "language": "python",
   "name": "python3"
  },
  "language_info": {
   "codemirror_mode": {
    "name": "ipython",
    "version": 3
   },
   "file_extension": ".py",
   "mimetype": "text/x-python",
   "name": "python",
   "nbconvert_exporter": "python",
   "pygments_lexer": "ipython3",
   "version": "3.9.7"
  },
  "orig_nbformat": 4
 },
 "nbformat": 4,
 "nbformat_minor": 2
}
